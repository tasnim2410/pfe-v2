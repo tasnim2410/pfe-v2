{
 "cells": [
  {
   "cell_type": "code",
   "execution_count": 2,
   "id": "2e30f632",
   "metadata": {},
   "outputs": [
    {
     "name": "stdout",
     "output_type": "stream",
     "text": [
      "Status Code: 410\n",
      "{\n",
      "  \"error\": true,\n",
      "  \"reason\": \"discontinued\"\n",
      "}\n"
     ]
    }
   ],
   "source": [
    "import requests\n",
    "import json\n",
    "\n",
    "# Example: Get 5 patents\n",
    "url = \"https://api.patentsview.org/patents/query\"\n",
    "params = {\n",
    "    \"q\": {},  # empty query for all patents\n",
    "    \"f\": [\"patent_number\", \"patent_title\", \"patent_date\"],\n",
    "    \"o\": {\"per_page\": 5}\n",
    "}\n",
    "response = requests.get(url, params={\"q\": json.dumps(params[\"q\"]), \"f\": json.dumps(params[\"f\"]), \"o\": json.dumps(params[\"o\"])})\n",
    "\n",
    "print(\"Status Code:\", response.status_code)\n",
    "try:\n",
    "    data = response.json()\n",
    "    print(json.dumps(data, indent=2)[:2000])  # Print first 2000 chars for brevity\n",
    "except Exception as e:\n",
    "    print(\"Error parsing JSON:\", e)\n",
    "    print(response.text[:2000])"
   ]
  }
 ],
 "metadata": {
  "kernelspec": {
   "display_name": "Python 3",
   "language": "python",
   "name": "python3"
  },
  "language_info": {
   "codemirror_mode": {
    "name": "ipython",
    "version": 3
   },
   "file_extension": ".py",
   "mimetype": "text/x-python",
   "name": "python",
   "nbconvert_exporter": "python",
   "pygments_lexer": "ipython3",
   "version": "3.12.10"
  }
 },
 "nbformat": 4,
 "nbformat_minor": 5
}
